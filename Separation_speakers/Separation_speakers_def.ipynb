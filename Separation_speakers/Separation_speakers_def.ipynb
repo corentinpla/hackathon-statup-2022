{
 "cells": [
  {
   "cell_type": "code",
   "execution_count": 1,
   "metadata": {
    "colab": {
     "base_uri": "https://localhost:8080/",
     "height": 1000
    },
    "id": "sDohGGxaB8A_",
    "outputId": "625ea284-711d-4e15-c6f1-e727eff934bd"
   },
   "outputs": [],
   "source": [
    "from resemblyzer import preprocess_wav, VoiceEncoder\n",
    "from pathlib import Path\n",
    "from inaSpeechSegmenter import Segmenter\n",
    "from inaSpeechSegmenter.export_funcs import seg2csv, seg2textgrid\n",
    "from spectralcluster import SpectralClusterer\n",
    "from spectralcluster import RefinementOptions\n",
    "from spectralcluster import ThresholdType\n",
    "from spectralcluster import ICASSP2018_REFINEMENT_SEQUENCE\n",
    "from resemblyzer.audio import sampling_rate\n",
    "from pydub import AudioSegment\n",
    "import numpy as np"
   ]
  },
  {
   "cell_type": "code",
   "execution_count": 2,
   "metadata": {
    "id": "6RVfWGt0CI8S"
   },
   "outputs": [],
   "source": [
    "def different_speakers(audio_path):\n",
    "  ''' Paramètres\n",
    "      ----------\n",
    "      audio_path : string\n",
    "      Chemin d'accès au fichier .wav à analyser\n",
    "      '''\n",
    "\n",
    "  # I - Fonction qui extrait les paroles du reste de l'audio (silence, musique, etc.)\n",
    "  # Renvoie la segmentation sur la forme [('Speech',0.0,0.14), ('NoEnergy',0.14,0.45), ('Music',0.45,1.12), ...]]\n",
    "  def extract_speech(audio_path):\n",
    "    segmentation = Segmenter(detect_gender=False)\n",
    "    return segmentation(audio_path)\n",
    "\n",
    "  # Fonction qui renvoie un fichier audio ne contenant que les passages où des personnes parlent\n",
    "  def concatenate_segments(segmentation):\n",
    "    t1 = [] #Temps de début de parole\n",
    "    t2 = [] #Temps de fin de parole\n",
    "\n",
    "    #Remplissage des tableaux précédents\n",
    "    for i in range(len(segmentation)):\n",
    "      #if (segmentation[i][0] == 'male') or (segmentation[i][0] == 'female'):\n",
    "      if segmentation[i][0] == 'speech':\n",
    "        t1.append(segmentation[i][1])\n",
    "        t2.append(segmentation[i][2])\n",
    "\n",
    "    #Importation du fichier .wav dont on veut les différents locuteurs\n",
    "    newAudio = AudioSegment.from_wav(audio_path)\n",
    "    #Génération de deux fichiers audio vides\n",
    "    audio = AudioSegment.empty()\n",
    "\n",
    "    # Génération fichier\n",
    "    for i in range(len(t1)):\n",
    "      audio += newAudio[t1[i]*1000:t2[i]*1000]\n",
    "\n",
    "    audio.export(out_f = \"cut_audio.wav\", \n",
    "                          format = \"wav\")\n",
    "    \n",
    "    return \"cut_audio.wav\"\n",
    "\n",
    "  # On segmente l'audio selon les différents locuteurs\n",
    "  # Renvoie \n",
    "  def speaker_segmentation(audio):\n",
    "    wav_fpath = Path(audio)\n",
    "    wav = preprocess_wav(wav_fpath)\n",
    "    encoder = VoiceEncoder(\"cpu\")\n",
    "    _, cont_embeds, wav_splits = encoder.embed_utterance(wav, return_partials=True, rate=16)\n",
    "\n",
    "    # Pour déterminer les différents locuteurs/locutrices, on clusterise\n",
    "    refinement_options = RefinementOptions(gaussian_blur_sigma=1,\n",
    "                                            p_percentile=0.90,\n",
    "                                            thresholding_soft_multiplier=0.01,\n",
    "                                            thresholding_type=ThresholdType.RowMax,\n",
    "                                            refinement_sequence=ICASSP2018_REFINEMENT_SEQUENCE)\n",
    "\n",
    "    clusterer = SpectralClusterer(min_clusters=2,\n",
    "                                  max_clusters=100,\n",
    "                                  refinement_options=refinement_options)\n",
    "    \n",
    "    labels = clusterer.predict(cont_embeds)\n",
    "    \n",
    "    times = [((s.start + s.stop) / 2) / sampling_rate for s in wav_splits]\n",
    "    labelling = []\n",
    "    start_time = 0\n",
    "\n",
    "    for i,time in enumerate(times):\n",
    "        if i>0 and labels[i]!=labels[i-1]:\n",
    "            temp = [str(labels[i-1]),start_time,time]\n",
    "            labelling.append(tuple(temp))\n",
    "            start_time = time\n",
    "        if i==len(times)-1:\n",
    "            temp = [str(labels[i]),start_time,time]\n",
    "            labelling.append(tuple(temp))\n",
    "\n",
    "    return labelling\n",
    "\n",
    "  def extract_audios(labelling):\n",
    "    audio = AudioSegment.from_wav(audio_path)\n",
    "    L=[]\n",
    "    for t in labelling:\n",
    "      new_audio =AudioSegment.empty()\n",
    "      new_audio= audio[t[1]*1000:t[2]*1000]\n",
    "      out_f= \"new_audio\"+str([t[1],t[2]])+\".wav\"\n",
    "      new_audio.export(out_f , format = \"wav\")\n",
    "      L.append(out_f)\n",
    "    return(L)\n",
    "\n",
    "  ## Exécution finale : \n",
    "  # Etape I : \n",
    "  segmentation = extract_speech(audio_path)\n",
    "  # Etape II : \n",
    "  newAudio = concatenate_segments(segmentation)\n",
    "  # Etape III :\n",
    "  labelling = speaker_segmentation(newAudio)\n",
    "  # Etape IV : \n",
    "  resultat = extract_audios(labelling)\n",
    "\n",
    "  return resultat"
   ]
  },
  {
   "cell_type": "code",
   "execution_count": 3,
   "metadata": {},
   "outputs": [
    {
     "data": {
      "text/plain": [
       "['.ipynb_checkpoints',\n",
       " 'cut_audio.wav',\n",
       " 'Fichiers_test',\n",
       " 'MovieSoundClips.net dataset',\n",
       " 'new_audio[0, 1.16].wav',\n",
       " 'new_audio[1.16, 1.64].wav',\n",
       " 'Separation_speakers_def.ipynb',\n",
       " 'VoxConverse']"
      ]
     },
     "execution_count": 3,
     "metadata": {},
     "output_type": "execute_result"
    }
   ],
   "source": [
    "import os\n",
    "os.listdir()"
   ]
  },
  {
   "cell_type": "code",
   "execution_count": 4,
   "metadata": {
    "colab": {
     "base_uri": "https://localhost:8080/",
     "height": 589
    },
    "id": "vO-1jvJmCKW1",
    "outputId": "3e58cec2-3478-48ed-d5f4-d5a20e3110be"
   },
   "outputs": [
    {
     "name": "stderr",
     "output_type": "stream",
     "text": [
      "C:\\Users\\Paul\\anaconda3\\lib\\site-packages\\pyannote\\algorithms\\utils\\viterbi.py:86: FutureWarning: arrays to stack must be passed as a \"sequence\" type such as list or tuple. Support for non-sequence iterables such as generators is deprecated as of NumPy 1.16 and will raise an error in the future.\n",
      "  return np.vstack(\n",
      "C:\\Users\\Paul\\anaconda3\\lib\\site-packages\\pyannote\\algorithms\\utils\\viterbi.py:95: FutureWarning: arrays to stack must be passed as a \"sequence\" type such as list or tuple. Support for non-sequence iterables such as generators is deprecated as of NumPy 1.16 and will raise an error in the future.\n",
      "  return np.vstack(\n",
      "C:\\Users\\Paul\\anaconda3\\lib\\site-packages\\inaSpeechSegmenter\\segmenter.py:61: RuntimeWarning: invalid value encountered in subtract\n",
      "  data = (data - np.mean(data, axis=1).reshape((len(data), 1))) / np.std(data, axis=1).reshape((len(data), 1))\n",
      "C:\\Users\\Paul\\anaconda3\\lib\\site-packages\\numpy\\core\\_methods.py:229: RuntimeWarning: invalid value encountered in subtract\n",
      "  x = asanyarray(arr - arrmean)\n",
      "C:\\Users\\Paul\\anaconda3\\lib\\site-packages\\resemblyzer\\audio.py:33: FutureWarning: Pass orig_sr=11025, target_sr=16000 as keyword args. From version 0.10 passing these as positional arguments will result in an error\n",
      "  wav = librosa.resample(wav, source_sr, sampling_rate)\n"
     ]
    },
    {
     "name": "stdout",
     "output_type": "stream",
     "text": [
      "Loaded the voice encoder model on cpu in 0.07 seconds.\n"
     ]
    },
    {
     "name": "stderr",
     "output_type": "stream",
     "text": [
      "C:\\Users\\Paul\\anaconda3\\lib\\site-packages\\resemblyzer\\audio.py:47: FutureWarning: Pass y=[0.00797785 0.00866597 0.00680679 ... 0.         0.         0.        ], sr=16000 as keyword args. From version 0.10 passing these as positional arguments will result in an error\n",
      "  frames = librosa.feature.melspectrogram(\n"
     ]
    },
    {
     "data": {
      "text/plain": [
       "['new_audio[0, 1.16].wav', 'new_audio[1.16, 1.64].wav']"
      ]
     },
     "execution_count": 4,
     "metadata": {},
     "output_type": "execute_result"
    }
   ],
   "source": [
    "## Test : \n",
    "\n",
    "different_speakers(\"Fichiers_test/4.wav\")"
   ]
  },
  {
   "cell_type": "code",
   "execution_count": null,
   "metadata": {},
   "outputs": [],
   "source": []
  }
 ],
 "metadata": {
  "colab": {
   "name": "Partie1_Hackathon.ipynb",
   "provenance": []
  },
  "kernelspec": {
   "display_name": "Python 3 (ipykernel)",
   "language": "python",
   "name": "python3"
  },
  "language_info": {
   "codemirror_mode": {
    "name": "ipython",
    "version": 3
   },
   "file_extension": ".py",
   "mimetype": "text/x-python",
   "name": "python",
   "nbconvert_exporter": "python",
   "pygments_lexer": "ipython3",
   "version": "3.9.7"
  }
 },
 "nbformat": 4,
 "nbformat_minor": 1
}
